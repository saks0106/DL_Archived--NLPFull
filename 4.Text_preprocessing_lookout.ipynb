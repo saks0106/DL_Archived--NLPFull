{
  "metadata": {
    "kernelspec": {
      "language": "python",
      "display_name": "Python 3",
      "name": "python3"
    },
    "language_info": {
      "name": "python",
      "version": "3.7.12",
      "mimetype": "text/x-python",
      "codemirror_mode": {
        "name": "ipython",
        "version": 3
      },
      "pygments_lexer": "ipython3",
      "nbconvert_exporter": "python",
      "file_extension": ".py"
    },
    "colab": {
      "provenance": [],
      "include_colab_link": true
    }
  },
  "nbformat_minor": 0,
  "nbformat": 4,
  "cells": [
    {
      "cell_type": "markdown",
      "metadata": {
        "id": "view-in-github",
        "colab_type": "text"
      },
      "source": [
        "<a href=\"https://colab.research.google.com/github/saks0106/DL_Frequent_Lookout/blob/main/4.Text_preprocessing_lookout.ipynb\" target=\"_parent\"><img src=\"https://colab.research.google.com/assets/colab-badge.svg\" alt=\"Open In Colab\"/></a>"
      ]
    },
    {
      "cell_type": "code",
      "source": [
        "# This Python 3 environment comes with many helpful analytics libraries installed\n",
        "# It is defined by the kaggle/python Docker image: https://github.com/kaggle/docker-python\n",
        "# For example, here's several helpful packages to load\n",
        "\n",
        "import numpy as np # linear algebra\n",
        "import pandas as pd # data processing, CSV file I/O (e.g. pd.read_csv)\n",
        "\n",
        "# Input data files are available in the read-only \"../input/\" directory\n",
        "# For example, running this (by clicking run or pressing Shift+Enter) will list all files under the input directory\n",
        "\n",
        "import os\n",
        "for dirname, _, filenames in os.walk('/kaggle/input'):\n",
        "    for filename in filenames:\n",
        "        print(os.path.join(dirname, filename))\n",
        "\n",
        "# You can write up to 20GB to the current directory (/kaggle/working/) that gets preserved as output when you create a version using \"Save & Run All\"\n",
        "# You can also write temporary files to /kaggle/temp/, but they won't be saved outside of the current session"
      ],
      "metadata": {
        "_uuid": "8f2839f25d086af736a60e9eeb907d3b93b6e0e5",
        "_cell_guid": "b1076dfc-b9ad-4769-8c92-a6c4dae69d19",
        "execution": {
          "iopub.status.busy": "2023-07-04T07:46:13.133137Z",
          "iopub.execute_input": "2023-07-04T07:46:13.133469Z",
          "iopub.status.idle": "2023-07-04T07:46:13.148700Z",
          "shell.execute_reply.started": "2023-07-04T07:46:13.133428Z",
          "shell.execute_reply": "2023-07-04T07:46:13.147258Z"
        },
        "trusted": true,
        "id": "sRR5lpT59vHn",
        "outputId": "a1c2bc49-9c72-417c-eaf8-5314368b183f"
      },
      "execution_count": null,
      "outputs": [
        {
          "name": "stdout",
          "text": "/kaggle/input/imdb-dataset-of-50k-movie-reviews/IMDB Dataset.csv\n",
          "output_type": "stream"
        }
      ]
    },
    {
      "cell_type": "code",
      "source": [
        "df = pd.read_csv('/kaggle/input/imdb-dataset-of-50k-movie-reviews/IMDB Dataset.csv')"
      ],
      "metadata": {
        "execution": {
          "iopub.status.busy": "2023-07-04T07:46:13.155087Z",
          "iopub.execute_input": "2023-07-04T07:46:13.156286Z",
          "iopub.status.idle": "2023-07-04T07:46:14.749923Z",
          "shell.execute_reply.started": "2023-07-04T07:46:13.156182Z",
          "shell.execute_reply": "2023-07-04T07:46:14.748851Z"
        },
        "trusted": true,
        "id": "-uktKUeM9vHy"
      },
      "execution_count": null,
      "outputs": []
    },
    {
      "cell_type": "code",
      "source": [
        "df.shape"
      ],
      "metadata": {
        "execution": {
          "iopub.status.busy": "2023-07-04T07:46:14.752000Z",
          "iopub.execute_input": "2023-07-04T07:46:14.752300Z",
          "iopub.status.idle": "2023-07-04T07:46:14.761496Z",
          "shell.execute_reply.started": "2023-07-04T07:46:14.752264Z",
          "shell.execute_reply": "2023-07-04T07:46:14.760448Z"
        },
        "trusted": true,
        "id": "tvAngSL39vH2",
        "outputId": "f425f3dc-c585-48bc-d24d-a93e05957b09"
      },
      "execution_count": null,
      "outputs": [
        {
          "execution_count": 4,
          "output_type": "execute_result",
          "data": {
            "text/plain": "(50000, 2)"
          },
          "metadata": {}
        }
      ]
    },
    {
      "cell_type": "code",
      "source": [
        "df.head()"
      ],
      "metadata": {
        "execution": {
          "iopub.status.busy": "2023-07-04T07:46:14.762903Z",
          "iopub.execute_input": "2023-07-04T07:46:14.763430Z",
          "iopub.status.idle": "2023-07-04T07:46:14.790064Z",
          "shell.execute_reply.started": "2023-07-04T07:46:14.763389Z",
          "shell.execute_reply": "2023-07-04T07:46:14.788778Z"
        },
        "trusted": true,
        "id": "LJRMr2UD9vH5",
        "outputId": "1a917ef6-c41f-4c58-861c-ae703ca772f7"
      },
      "execution_count": null,
      "outputs": [
        {
          "execution_count": 5,
          "output_type": "execute_result",
          "data": {
            "text/plain": "                                              review sentiment\n0  One of the other reviewers has mentioned that ...  positive\n1  A wonderful little production. <br /><br />The...  positive\n2  I thought this was a wonderful way to spend ti...  positive\n3  Basically there's a family where a little boy ...  negative\n4  Petter Mattei's \"Love in the Time of Money\" is...  positive",
            "text/html": "<div>\n<style scoped>\n    .dataframe tbody tr th:only-of-type {\n        vertical-align: middle;\n    }\n\n    .dataframe tbody tr th {\n        vertical-align: top;\n    }\n\n    .dataframe thead th {\n        text-align: right;\n    }\n</style>\n<table border=\"1\" class=\"dataframe\">\n  <thead>\n    <tr style=\"text-align: right;\">\n      <th></th>\n      <th>review</th>\n      <th>sentiment</th>\n    </tr>\n  </thead>\n  <tbody>\n    <tr>\n      <th>0</th>\n      <td>One of the other reviewers has mentioned that ...</td>\n      <td>positive</td>\n    </tr>\n    <tr>\n      <th>1</th>\n      <td>A wonderful little production. &lt;br /&gt;&lt;br /&gt;The...</td>\n      <td>positive</td>\n    </tr>\n    <tr>\n      <th>2</th>\n      <td>I thought this was a wonderful way to spend ti...</td>\n      <td>positive</td>\n    </tr>\n    <tr>\n      <th>3</th>\n      <td>Basically there's a family where a little boy ...</td>\n      <td>negative</td>\n    </tr>\n    <tr>\n      <th>4</th>\n      <td>Petter Mattei's \"Love in the Time of Money\" is...</td>\n      <td>positive</td>\n    </tr>\n  </tbody>\n</table>\n</div>"
          },
          "metadata": {}
        }
      ]
    },
    {
      "cell_type": "code",
      "source": [
        "df['review'][3].lower()"
      ],
      "metadata": {
        "execution": {
          "iopub.status.busy": "2023-07-04T07:46:14.792947Z",
          "iopub.execute_input": "2023-07-04T07:46:14.793340Z",
          "iopub.status.idle": "2023-07-04T07:46:14.804489Z",
          "shell.execute_reply.started": "2023-07-04T07:46:14.793280Z",
          "shell.execute_reply": "2023-07-04T07:46:14.803428Z"
        },
        "trusted": true,
        "id": "g46HHqWS9vH7",
        "outputId": "51165c1e-c2ab-408b-d9f9-e0b7a240f1c1"
      },
      "execution_count": null,
      "outputs": [
        {
          "execution_count": 6,
          "output_type": "execute_result",
          "data": {
            "text/plain": "\"basically there's a family where a little boy (jake) thinks there's a zombie in his closet & his parents are fighting all the time.<br /><br />this movie is slower than a soap opera... and suddenly, jake decides to become rambo and kill the zombie.<br /><br />ok, first of all when you're going to make a film you must decide if its a thriller or a drama! as a drama the movie is watchable. parents are divorcing & arguing like in real life. and then we have jake with his closet which totally ruins all the film! i expected to see a boogeyman similar movie, and instead i watched a drama with some meaningless thriller spots.<br /><br />3 out of 10 just for the well playing parents & descent dialogs. as for the shots with jake: just ignore them.\""
          },
          "metadata": {}
        }
      ]
    },
    {
      "cell_type": "code",
      "source": [
        "df['review'] = df['review'].str.lower()"
      ],
      "metadata": {
        "execution": {
          "iopub.status.busy": "2023-07-04T07:46:14.806146Z",
          "iopub.execute_input": "2023-07-04T07:46:14.806506Z",
          "iopub.status.idle": "2023-07-04T07:46:15.011591Z",
          "shell.execute_reply.started": "2023-07-04T07:46:14.806458Z",
          "shell.execute_reply": "2023-07-04T07:46:15.010629Z"
        },
        "trusted": true,
        "id": "Jn4c8oU99vH8"
      },
      "execution_count": null,
      "outputs": []
    },
    {
      "cell_type": "code",
      "source": [
        "df"
      ],
      "metadata": {
        "execution": {
          "iopub.status.busy": "2023-07-04T07:46:15.012862Z",
          "iopub.execute_input": "2023-07-04T07:46:15.013118Z",
          "iopub.status.idle": "2023-07-04T07:46:15.029184Z",
          "shell.execute_reply.started": "2023-07-04T07:46:15.013085Z",
          "shell.execute_reply": "2023-07-04T07:46:15.028269Z"
        },
        "trusted": true,
        "id": "mhalS-lm9vH9",
        "outputId": "ad6964fe-2048-44da-892e-0b6b189c6158"
      },
      "execution_count": null,
      "outputs": [
        {
          "execution_count": 8,
          "output_type": "execute_result",
          "data": {
            "text/plain": "                                                  review sentiment\n0      one of the other reviewers has mentioned that ...  positive\n1      a wonderful little production. <br /><br />the...  positive\n2      i thought this was a wonderful way to spend ti...  positive\n3      basically there's a family where a little boy ...  negative\n4      petter mattei's \"love in the time of money\" is...  positive\n...                                                  ...       ...\n49995  i thought this movie did a down right good job...  positive\n49996  bad plot, bad dialogue, bad acting, idiotic di...  negative\n49997  i am a catholic taught in parochial elementary...  negative\n49998  i'm going to have to disagree with the previou...  negative\n49999  no one expects the star trek movies to be high...  negative\n\n[50000 rows x 2 columns]",
            "text/html": "<div>\n<style scoped>\n    .dataframe tbody tr th:only-of-type {\n        vertical-align: middle;\n    }\n\n    .dataframe tbody tr th {\n        vertical-align: top;\n    }\n\n    .dataframe thead th {\n        text-align: right;\n    }\n</style>\n<table border=\"1\" class=\"dataframe\">\n  <thead>\n    <tr style=\"text-align: right;\">\n      <th></th>\n      <th>review</th>\n      <th>sentiment</th>\n    </tr>\n  </thead>\n  <tbody>\n    <tr>\n      <th>0</th>\n      <td>one of the other reviewers has mentioned that ...</td>\n      <td>positive</td>\n    </tr>\n    <tr>\n      <th>1</th>\n      <td>a wonderful little production. &lt;br /&gt;&lt;br /&gt;the...</td>\n      <td>positive</td>\n    </tr>\n    <tr>\n      <th>2</th>\n      <td>i thought this was a wonderful way to spend ti...</td>\n      <td>positive</td>\n    </tr>\n    <tr>\n      <th>3</th>\n      <td>basically there's a family where a little boy ...</td>\n      <td>negative</td>\n    </tr>\n    <tr>\n      <th>4</th>\n      <td>petter mattei's \"love in the time of money\" is...</td>\n      <td>positive</td>\n    </tr>\n    <tr>\n      <th>...</th>\n      <td>...</td>\n      <td>...</td>\n    </tr>\n    <tr>\n      <th>49995</th>\n      <td>i thought this movie did a down right good job...</td>\n      <td>positive</td>\n    </tr>\n    <tr>\n      <th>49996</th>\n      <td>bad plot, bad dialogue, bad acting, idiotic di...</td>\n      <td>negative</td>\n    </tr>\n    <tr>\n      <th>49997</th>\n      <td>i am a catholic taught in parochial elementary...</td>\n      <td>negative</td>\n    </tr>\n    <tr>\n      <th>49998</th>\n      <td>i'm going to have to disagree with the previou...</td>\n      <td>negative</td>\n    </tr>\n    <tr>\n      <th>49999</th>\n      <td>no one expects the star trek movies to be high...</td>\n      <td>negative</td>\n    </tr>\n  </tbody>\n</table>\n<p>50000 rows × 2 columns</p>\n</div>"
          },
          "metadata": {}
        }
      ]
    },
    {
      "cell_type": "code",
      "source": [
        "import re\n",
        "def remove_html_tags(text):\n",
        "    pattern = re.compile('<.*?>')\n",
        "    return pattern.sub(r'', text)"
      ],
      "metadata": {
        "execution": {
          "iopub.status.busy": "2023-07-04T07:46:15.030864Z",
          "iopub.execute_input": "2023-07-04T07:46:15.031124Z",
          "iopub.status.idle": "2023-07-04T07:46:15.038594Z",
          "shell.execute_reply.started": "2023-07-04T07:46:15.031090Z",
          "shell.execute_reply": "2023-07-04T07:46:15.037811Z"
        },
        "trusted": true,
        "id": "JI5Mi9oK9vH-"
      },
      "execution_count": null,
      "outputs": []
    },
    {
      "cell_type": "code",
      "source": [
        "text = \"<html><body><p> Movie 1</p><p> Actor - Aamir Khan</p><p> Click here to <a href='http://google.com'>download</a></p></body></html>\""
      ],
      "metadata": {
        "execution": {
          "iopub.status.busy": "2023-07-04T07:46:15.040314Z",
          "iopub.execute_input": "2023-07-04T07:46:15.040676Z",
          "iopub.status.idle": "2023-07-04T07:46:15.055501Z",
          "shell.execute_reply.started": "2023-07-04T07:46:15.040632Z",
          "shell.execute_reply": "2023-07-04T07:46:15.054568Z"
        },
        "trusted": true,
        "id": "tU62-3GX9vH_"
      },
      "execution_count": null,
      "outputs": []
    },
    {
      "cell_type": "code",
      "source": [
        "remove_html_tags(text)"
      ],
      "metadata": {
        "execution": {
          "iopub.status.busy": "2023-07-04T07:46:15.056838Z",
          "iopub.execute_input": "2023-07-04T07:46:15.057599Z",
          "iopub.status.idle": "2023-07-04T07:46:15.072111Z",
          "shell.execute_reply.started": "2023-07-04T07:46:15.057553Z",
          "shell.execute_reply": "2023-07-04T07:46:15.071371Z"
        },
        "trusted": true,
        "id": "2PZv06nY9vH_",
        "outputId": "96b5b2e9-a3da-4826-ae65-5a07c191bb40"
      },
      "execution_count": null,
      "outputs": [
        {
          "execution_count": 11,
          "output_type": "execute_result",
          "data": {
            "text/plain": "' Movie 1 Actor - Aamir Khan Click here to download'"
          },
          "metadata": {}
        }
      ]
    },
    {
      "cell_type": "code",
      "source": [
        "df['review'] = df['review'].apply(remove_html_tags)"
      ],
      "metadata": {
        "execution": {
          "iopub.status.busy": "2023-07-04T07:46:15.075338Z",
          "iopub.execute_input": "2023-07-04T07:46:15.075621Z",
          "iopub.status.idle": "2023-07-04T07:46:15.329783Z",
          "shell.execute_reply.started": "2023-07-04T07:46:15.075584Z",
          "shell.execute_reply": "2023-07-04T07:46:15.328617Z"
        },
        "trusted": true,
        "id": "kkP5RD0O9vIA"
      },
      "execution_count": null,
      "outputs": []
    },
    {
      "cell_type": "code",
      "source": [
        "df['review'][5]"
      ],
      "metadata": {
        "execution": {
          "iopub.status.busy": "2023-07-04T07:46:15.331970Z",
          "iopub.execute_input": "2023-07-04T07:46:15.332250Z",
          "iopub.status.idle": "2023-07-04T07:46:15.341777Z",
          "shell.execute_reply.started": "2023-07-04T07:46:15.332213Z",
          "shell.execute_reply": "2023-07-04T07:46:15.340665Z"
        },
        "trusted": true,
        "id": "hDLmDrXK9vIB",
        "outputId": "ba8ae937-4cd6-4a97-a438-84b2aaea804e"
      },
      "execution_count": null,
      "outputs": [
        {
          "execution_count": 13,
          "output_type": "execute_result",
          "data": {
            "text/plain": "'probably my all-time favorite movie, a story of selflessness, sacrifice and dedication to a noble cause, but it\\'s not preachy or boring. it just never gets old, despite my having seen it some 15 or more times in the last 25 years. paul lukas\\' performance brings tears to my eyes, and bette davis, in one of her very few truly sympathetic roles, is a delight. the kids are, as grandma says, more like \"dressed-up midgets\" than children, but that only makes them more fun to watch. and the mother\\'s slow awakening to what\\'s happening in the world and under her own roof is believable and startling. if i had a dozen thumbs, they\\'d all be \"up\" for this movie.'"
          },
          "metadata": {}
        }
      ]
    },
    {
      "cell_type": "code",
      "source": [
        "def remove_url(text):\n",
        "    pattern = re.compile(r'https?://\\S+|www\\.\\S+')\n",
        "    return pattern.sub(r'', text)"
      ],
      "metadata": {
        "execution": {
          "iopub.status.busy": "2023-07-04T07:46:15.343183Z",
          "iopub.execute_input": "2023-07-04T07:46:15.343448Z",
          "iopub.status.idle": "2023-07-04T07:46:15.355118Z",
          "shell.execute_reply.started": "2023-07-04T07:46:15.343398Z",
          "shell.execute_reply": "2023-07-04T07:46:15.354051Z"
        },
        "trusted": true,
        "id": "xM4EtnWY9vIB"
      },
      "execution_count": null,
      "outputs": []
    },
    {
      "cell_type": "code",
      "source": [
        "text1 = 'Check out my notebook https://www.kaggle.com/campusx/notebook8223fc1abb'\n",
        "text2 = 'Check out my notebook http://www.kaggle.com/campusx/notebook8223fc1abb'\n",
        "text3 = 'Google search here www.google.com'\n",
        "text4 = 'For notebook click https://www.kaggle.com/campusx/notebook8223fc1abb to search check www.google.com'"
      ],
      "metadata": {
        "execution": {
          "iopub.status.busy": "2023-07-04T07:46:15.357059Z",
          "iopub.execute_input": "2023-07-04T07:46:15.357381Z",
          "iopub.status.idle": "2023-07-04T07:46:15.370554Z",
          "shell.execute_reply.started": "2023-07-04T07:46:15.357335Z",
          "shell.execute_reply": "2023-07-04T07:46:15.369173Z"
        },
        "trusted": true,
        "id": "K2YhVmCZ9vIB"
      },
      "execution_count": null,
      "outputs": []
    },
    {
      "cell_type": "code",
      "source": [
        "remove_url(text4)"
      ],
      "metadata": {
        "execution": {
          "iopub.status.busy": "2023-07-04T07:46:15.372192Z",
          "iopub.execute_input": "2023-07-04T07:46:15.372942Z",
          "iopub.status.idle": "2023-07-04T07:46:15.387060Z",
          "shell.execute_reply.started": "2023-07-04T07:46:15.372886Z",
          "shell.execute_reply": "2023-07-04T07:46:15.385980Z"
        },
        "trusted": true,
        "id": "WH3X50mI9vIB",
        "outputId": "b521044a-e03e-4f7b-c403-8ff303592792"
      },
      "execution_count": null,
      "outputs": [
        {
          "execution_count": 16,
          "output_type": "execute_result",
          "data": {
            "text/plain": "'For notebook click  to search check '"
          },
          "metadata": {}
        }
      ]
    },
    {
      "cell_type": "code",
      "source": [
        "import string,time\n",
        "string.punctuation"
      ],
      "metadata": {
        "execution": {
          "iopub.status.busy": "2023-07-04T07:46:15.388828Z",
          "iopub.execute_input": "2023-07-04T07:46:15.389160Z",
          "iopub.status.idle": "2023-07-04T07:46:15.402678Z",
          "shell.execute_reply.started": "2023-07-04T07:46:15.389122Z",
          "shell.execute_reply": "2023-07-04T07:46:15.401798Z"
        },
        "trusted": true,
        "id": "kg-62_Y59vIC",
        "outputId": "c0bfa3f1-7aec-44d9-c239-2f961b545439"
      },
      "execution_count": null,
      "outputs": [
        {
          "execution_count": 17,
          "output_type": "execute_result",
          "data": {
            "text/plain": "'!\"#$%&\\'()*+,-./:;<=>?@[\\\\]^_`{|}~'"
          },
          "metadata": {}
        }
      ]
    },
    {
      "cell_type": "code",
      "source": [
        "exclude = string.punctuation"
      ],
      "metadata": {
        "execution": {
          "iopub.status.busy": "2023-07-04T07:46:15.404267Z",
          "iopub.execute_input": "2023-07-04T07:46:15.404875Z",
          "iopub.status.idle": "2023-07-04T07:46:15.413935Z",
          "shell.execute_reply.started": "2023-07-04T07:46:15.404826Z",
          "shell.execute_reply": "2023-07-04T07:46:15.412874Z"
        },
        "trusted": true,
        "id": "pbZ3QlqI9vIC"
      },
      "execution_count": null,
      "outputs": []
    },
    {
      "cell_type": "code",
      "source": [
        "def remove_punc(text):\n",
        "    for char in exclude:\n",
        "        text = text.replace(char,'')\n",
        "    return text\n",
        ""
      ],
      "metadata": {
        "execution": {
          "iopub.status.busy": "2023-07-04T07:46:15.415058Z",
          "iopub.execute_input": "2023-07-04T07:46:15.415327Z",
          "iopub.status.idle": "2023-07-04T07:46:15.428221Z",
          "shell.execute_reply.started": "2023-07-04T07:46:15.415280Z",
          "shell.execute_reply": "2023-07-04T07:46:15.427105Z"
        },
        "trusted": true,
        "id": "oPGmPUKN9vIE"
      },
      "execution_count": null,
      "outputs": []
    },
    {
      "cell_type": "code",
      "source": [
        "text = 'string. With. Punctuation?'"
      ],
      "metadata": {
        "execution": {
          "iopub.status.busy": "2023-07-04T07:46:15.429544Z",
          "iopub.execute_input": "2023-07-04T07:46:15.430573Z",
          "iopub.status.idle": "2023-07-04T07:46:15.446944Z",
          "shell.execute_reply.started": "2023-07-04T07:46:15.430486Z",
          "shell.execute_reply": "2023-07-04T07:46:15.446073Z"
        },
        "trusted": true,
        "id": "qLyD1itV9vIG"
      },
      "execution_count": null,
      "outputs": []
    },
    {
      "cell_type": "code",
      "source": [
        "start = time.time()\n",
        "print(remove_punc(text))\n",
        "time1 = time.time() - start\n",
        "print(time1*50000)"
      ],
      "metadata": {
        "execution": {
          "iopub.status.busy": "2023-07-04T07:46:15.448005Z",
          "iopub.execute_input": "2023-07-04T07:46:15.448274Z",
          "iopub.status.idle": "2023-07-04T07:46:15.461812Z",
          "shell.execute_reply.started": "2023-07-04T07:46:15.448239Z",
          "shell.execute_reply": "2023-07-04T07:46:15.460769Z"
        },
        "trusted": true,
        "id": "dwsdfhLy9vIH",
        "outputId": "748bf51c-159e-4cf2-c1df-e630d5f12e29"
      },
      "execution_count": null,
      "outputs": [
        {
          "name": "stdout",
          "text": "string With Punctuation\n21.62456512451172\n",
          "output_type": "stream"
        }
      ]
    },
    {
      "cell_type": "code",
      "source": [
        "def remove_punc1(text):\n",
        "    return text.translate(str.maketrans('', '', exclude))"
      ],
      "metadata": {
        "execution": {
          "iopub.status.busy": "2023-07-04T07:46:15.463363Z",
          "iopub.execute_input": "2023-07-04T07:46:15.464294Z",
          "iopub.status.idle": "2023-07-04T07:46:15.473588Z",
          "shell.execute_reply.started": "2023-07-04T07:46:15.464245Z",
          "shell.execute_reply": "2023-07-04T07:46:15.472596Z"
        },
        "trusted": true,
        "id": "-TdaxmhN9vII"
      },
      "execution_count": null,
      "outputs": []
    },
    {
      "cell_type": "code",
      "source": [
        "start = time.time()\n",
        "remove_punc1(text)\n",
        "time2 = time.time() - start\n",
        "print(time2*50000)"
      ],
      "metadata": {
        "execution": {
          "iopub.status.busy": "2023-07-04T07:46:15.475122Z",
          "iopub.execute_input": "2023-07-04T07:46:15.475381Z",
          "iopub.status.idle": "2023-07-04T07:46:15.487091Z",
          "shell.execute_reply.started": "2023-07-04T07:46:15.475348Z",
          "shell.execute_reply": "2023-07-04T07:46:15.486225Z"
        },
        "trusted": true,
        "id": "JGKaHQl79vII",
        "outputId": "62b03b25-a8bf-447f-f451-1d77c7ce12ce"
      },
      "execution_count": null,
      "outputs": [
        {
          "name": "stdout",
          "text": "4.696846008300781\n",
          "output_type": "stream"
        }
      ]
    },
    {
      "cell_type": "code",
      "source": [
        "time1/time2"
      ],
      "metadata": {
        "execution": {
          "iopub.status.busy": "2023-07-04T07:46:15.488502Z",
          "iopub.execute_input": "2023-07-04T07:46:15.488769Z",
          "iopub.status.idle": "2023-07-04T07:46:15.503732Z",
          "shell.execute_reply.started": "2023-07-04T07:46:15.488724Z",
          "shell.execute_reply": "2023-07-04T07:46:15.502818Z"
        },
        "trusted": true,
        "id": "7WgQxk-v9vIK",
        "outputId": "ebf3576c-c403-4b00-a6ee-aab848215955"
      },
      "execution_count": null,
      "outputs": [
        {
          "execution_count": 24,
          "output_type": "execute_result",
          "data": {
            "text/plain": "4.604060913705584"
          },
          "metadata": {}
        }
      ]
    },
    {
      "cell_type": "code",
      "source": [
        "df['review'][5]"
      ],
      "metadata": {
        "execution": {
          "iopub.status.busy": "2023-07-04T07:46:15.505019Z",
          "iopub.execute_input": "2023-07-04T07:46:15.505846Z",
          "iopub.status.idle": "2023-07-04T07:46:15.519428Z",
          "shell.execute_reply.started": "2023-07-04T07:46:15.505791Z",
          "shell.execute_reply": "2023-07-04T07:46:15.518307Z"
        },
        "trusted": true,
        "id": "ss1uHB559vIL",
        "outputId": "a497d003-556d-4730-8303-668eeae86d2e"
      },
      "execution_count": null,
      "outputs": [
        {
          "execution_count": 25,
          "output_type": "execute_result",
          "data": {
            "text/plain": "'probably my all-time favorite movie, a story of selflessness, sacrifice and dedication to a noble cause, but it\\'s not preachy or boring. it just never gets old, despite my having seen it some 15 or more times in the last 25 years. paul lukas\\' performance brings tears to my eyes, and bette davis, in one of her very few truly sympathetic roles, is a delight. the kids are, as grandma says, more like \"dressed-up midgets\" than children, but that only makes them more fun to watch. and the mother\\'s slow awakening to what\\'s happening in the world and under her own roof is believable and startling. if i had a dozen thumbs, they\\'d all be \"up\" for this movie.'"
          },
          "metadata": {}
        }
      ]
    },
    {
      "cell_type": "code",
      "source": [
        "remove_punc1(df['review'][5])"
      ],
      "metadata": {
        "execution": {
          "iopub.status.busy": "2023-07-04T07:46:15.521160Z",
          "iopub.execute_input": "2023-07-04T07:46:15.521977Z",
          "iopub.status.idle": "2023-07-04T07:46:15.533876Z",
          "shell.execute_reply.started": "2023-07-04T07:46:15.521927Z",
          "shell.execute_reply": "2023-07-04T07:46:15.532860Z"
        },
        "trusted": true,
        "id": "5-o_5QeC9vIL",
        "outputId": "a62c816f-75cd-4948-f068-eaf31715435a"
      },
      "execution_count": null,
      "outputs": [
        {
          "execution_count": 26,
          "output_type": "execute_result",
          "data": {
            "text/plain": "'probably my alltime favorite movie a story of selflessness sacrifice and dedication to a noble cause but its not preachy or boring it just never gets old despite my having seen it some 15 or more times in the last 25 years paul lukas performance brings tears to my eyes and bette davis in one of her very few truly sympathetic roles is a delight the kids are as grandma says more like dressedup midgets than children but that only makes them more fun to watch and the mothers slow awakening to whats happening in the world and under her own roof is believable and startling if i had a dozen thumbs theyd all be up for this movie'"
          },
          "metadata": {}
        }
      ]
    },
    {
      "cell_type": "code",
      "source": [
        "#chat_words are short words used during typing"
      ],
      "metadata": {
        "execution": {
          "iopub.status.busy": "2023-07-04T07:46:15.537140Z",
          "iopub.execute_input": "2023-07-04T07:46:15.537539Z",
          "iopub.status.idle": "2023-07-04T07:46:15.561816Z",
          "shell.execute_reply.started": "2023-07-04T07:46:15.537498Z",
          "shell.execute_reply": "2023-07-04T07:46:15.560584Z"
        },
        "trusted": true,
        "id": "s2pN647t9vIL",
        "outputId": "cfbea380-4afe-471a-dc83-513404537acb"
      },
      "execution_count": null,
      "outputs": [
        {
          "traceback": [
            "\u001b[0;31m---------------------------------------------------------------------------\u001b[0m",
            "\u001b[0;31mNameError\u001b[0m                                 Traceback (most recent call last)",
            "\u001b[0;32m/tmp/ipykernel_17/2916379194.py\u001b[0m in \u001b[0;36m<module>\u001b[0;34m\u001b[0m\n\u001b[0;32m----> 1\u001b[0;31m \u001b[0mchat_words\u001b[0m\u001b[0;34m\u001b[0m\u001b[0;34m\u001b[0m\u001b[0m\n\u001b[0m",
            "\u001b[0;31mNameError\u001b[0m: name 'chat_words' is not defined"
          ],
          "ename": "NameError",
          "evalue": "name 'chat_words' is not defined",
          "output_type": "error"
        }
      ]
    },
    {
      "cell_type": "code",
      "source": [
        "def chat_conversion(text):\n",
        "    new_text = []\n",
        "    for w in text.split():\n",
        "        if w.upper() in chat_words:\n",
        "            new_text.append(chat_words[w.upper()])\n",
        "        else:\n",
        "            new_text.append(w)\n",
        "    return \" \".join(new_text)"
      ],
      "metadata": {
        "execution": {
          "iopub.status.busy": "2021-12-08T20:22:14.393112Z",
          "iopub.execute_input": "2021-12-08T20:22:14.393841Z",
          "iopub.status.idle": "2021-12-08T20:22:14.398492Z",
          "shell.execute_reply.started": "2021-12-08T20:22:14.393808Z",
          "shell.execute_reply": "2021-12-08T20:22:14.397611Z"
        },
        "trusted": true,
        "id": "-c23IQUj9vIM"
      },
      "execution_count": null,
      "outputs": []
    },
    {
      "cell_type": "code",
      "source": [
        "chat_conversion('IMHO he is the best')"
      ],
      "metadata": {
        "execution": {
          "iopub.status.busy": "2021-12-08T20:27:43.943069Z",
          "iopub.execute_input": "2021-12-08T20:27:43.943973Z",
          "iopub.status.idle": "2021-12-08T20:27:43.949927Z",
          "shell.execute_reply.started": "2021-12-08T20:27:43.94393Z",
          "shell.execute_reply": "2021-12-08T20:27:43.948991Z"
        },
        "trusted": true,
        "id": "m36ujV5k9vIM"
      },
      "execution_count": null,
      "outputs": []
    },
    {
      "cell_type": "code",
      "source": [
        "chat_conversion('FYI delhi is the capital of india')"
      ],
      "metadata": {
        "execution": {
          "iopub.status.busy": "2021-12-08T20:27:50.001509Z",
          "iopub.execute_input": "2021-12-08T20:27:50.00189Z",
          "iopub.status.idle": "2021-12-08T20:27:50.006963Z",
          "shell.execute_reply.started": "2021-12-08T20:27:50.001864Z",
          "shell.execute_reply": "2021-12-08T20:27:50.006143Z"
        },
        "trusted": true,
        "id": "WQnAlQA49vIM"
      },
      "execution_count": null,
      "outputs": []
    },
    {
      "cell_type": "code",
      "source": [
        "#for spelling checker like nltk,spacy,textblob\n",
        "from textblob import TextBlob"
      ],
      "metadata": {
        "execution": {
          "iopub.status.busy": "2021-12-08T20:43:56.99156Z",
          "iopub.execute_input": "2021-12-08T20:43:56.991858Z",
          "iopub.status.idle": "2021-12-08T20:43:58.636292Z",
          "shell.execute_reply.started": "2021-12-08T20:43:56.991826Z",
          "shell.execute_reply": "2021-12-08T20:43:58.635444Z"
        },
        "trusted": true,
        "id": "aZ_kQHjw9vIN"
      },
      "execution_count": null,
      "outputs": []
    },
    {
      "cell_type": "code",
      "source": [
        "incorrect_text = 'ceertain conditionas duriing seveal ggenerations aree moodified in the saame maner.'\n",
        "\n",
        "textBlb = TextBlob(incorrect_text)\n",
        "\n",
        "textBlb.correct().string"
      ],
      "metadata": {
        "execution": {
          "iopub.status.busy": "2021-12-08T20:45:03.888211Z",
          "iopub.execute_input": "2021-12-08T20:45:03.889288Z",
          "iopub.status.idle": "2021-12-08T20:45:03.901265Z",
          "shell.execute_reply.started": "2021-12-08T20:45:03.889239Z",
          "shell.execute_reply": "2021-12-08T20:45:03.900308Z"
        },
        "trusted": true,
        "id": "uLm5bI4L9vIN"
      },
      "execution_count": null,
      "outputs": []
    },
    {
      "cell_type": "code",
      "source": [
        "from nltk.corpus import stopwords"
      ],
      "metadata": {
        "execution": {
          "iopub.status.busy": "2021-12-08T21:01:00.673954Z",
          "iopub.execute_input": "2021-12-08T21:01:00.674241Z",
          "iopub.status.idle": "2021-12-08T21:01:00.678455Z",
          "shell.execute_reply.started": "2021-12-08T21:01:00.67421Z",
          "shell.execute_reply": "2021-12-08T21:01:00.677834Z"
        },
        "trusted": true,
        "id": "af4dW6ZA9vIN"
      },
      "execution_count": null,
      "outputs": []
    },
    {
      "cell_type": "code",
      "source": [
        "stopwords.words('spanish')"
      ],
      "metadata": {
        "execution": {
          "iopub.status.busy": "2021-12-08T21:51:03.687894Z",
          "iopub.execute_input": "2021-12-08T21:51:03.688191Z",
          "iopub.status.idle": "2021-12-08T21:51:03.70028Z",
          "shell.execute_reply.started": "2021-12-08T21:51:03.688159Z",
          "shell.execute_reply": "2021-12-08T21:51:03.698834Z"
        },
        "trusted": true,
        "id": "GiACfXPr9vIO"
      },
      "execution_count": null,
      "outputs": []
    },
    {
      "cell_type": "code",
      "source": [
        "def remove_stopwords(text):\n",
        "    new_text = []\n",
        "\n",
        "    for word in text.split():\n",
        "        if word in stopwords.words('english'):\n",
        "            new_text.append('')\n",
        "        else:\n",
        "            new_text.append(word)\n",
        "    x = new_text[:]\n",
        "    new_text.clear()\n",
        "    return \" \".join(x)"
      ],
      "metadata": {
        "execution": {
          "iopub.status.busy": "2021-12-08T21:11:12.347842Z",
          "iopub.execute_input": "2021-12-08T21:11:12.348251Z",
          "iopub.status.idle": "2021-12-08T21:11:12.354127Z",
          "shell.execute_reply.started": "2021-12-08T21:11:12.34821Z",
          "shell.execute_reply": "2021-12-08T21:11:12.353513Z"
        },
        "trusted": true,
        "id": "qM5D1TgF9vIO"
      },
      "execution_count": null,
      "outputs": []
    },
    {
      "cell_type": "code",
      "source": [
        "remove_stopwords('probably my all-time favorite movie, a story of selflessness, sacrifice and dedication to a noble cause, but it\\'s not preachy or boring. it just never gets old, despite my having seen it some 15 or more times')"
      ],
      "metadata": {
        "execution": {
          "iopub.status.busy": "2021-12-08T21:11:13.833222Z",
          "iopub.execute_input": "2021-12-08T21:11:13.833512Z",
          "iopub.status.idle": "2021-12-08T21:11:13.844653Z",
          "shell.execute_reply.started": "2021-12-08T21:11:13.833484Z",
          "shell.execute_reply": "2021-12-08T21:11:13.843718Z"
        },
        "trusted": true,
        "id": "Qh5fg_HT9vIO"
      },
      "execution_count": null,
      "outputs": []
    },
    {
      "cell_type": "code",
      "source": [
        "df.head()"
      ],
      "metadata": {
        "execution": {
          "iopub.status.busy": "2021-12-08T21:11:16.999135Z",
          "iopub.execute_input": "2021-12-08T21:11:16.999954Z",
          "iopub.status.idle": "2021-12-08T21:11:17.009246Z",
          "shell.execute_reply.started": "2021-12-08T21:11:16.999916Z",
          "shell.execute_reply": "2021-12-08T21:11:17.00868Z"
        },
        "trusted": true,
        "id": "ljSvFujd9vIP"
      },
      "execution_count": null,
      "outputs": []
    },
    {
      "cell_type": "code",
      "source": [
        "df['review'].apply(remove_stopwords)"
      ],
      "metadata": {
        "execution": {
          "iopub.status.busy": "2021-12-08T21:11:21.643717Z",
          "iopub.execute_input": "2021-12-08T21:11:21.644149Z",
          "iopub.status.idle": "2021-12-08T21:32:50.295058Z",
          "shell.execute_reply.started": "2021-12-08T21:11:21.644112Z",
          "shell.execute_reply": "2021-12-08T21:32:50.294211Z"
        },
        "trusted": true,
        "id": "mXPpg7-69vIP"
      },
      "execution_count": null,
      "outputs": []
    },
    {
      "cell_type": "code",
      "source": [],
      "metadata": {
        "id": "Chm633Md9vIP"
      },
      "execution_count": null,
      "outputs": []
    },
    {
      "cell_type": "code",
      "source": [
        "import re\n",
        "def remove_emoji(text):\n",
        "    emoji_pattern = re.compile(\"[\"\n",
        "                           u\"\\U0001F600-\\U0001F64F\"  # emoticons\n",
        "                           u\"\\U0001F300-\\U0001F5FF\"  # symbols & pictographs\n",
        "                           u\"\\U0001F680-\\U0001F6FF\"  # transport & map symbols\n",
        "                           u\"\\U0001F1E0-\\U0001F1FF\"  # flags (iOS)\n",
        "                           u\"\\U00002702-\\U000027B0\"\n",
        "                           u\"\\U000024C2-\\U0001F251\"\n",
        "                           \"]+\", flags=re.UNICODE)\n",
        "    return emoji_pattern.sub(r'', text)"
      ],
      "metadata": {
        "execution": {
          "iopub.status.busy": "2021-12-09T06:36:47.342185Z",
          "iopub.execute_input": "2021-12-09T06:36:47.342491Z",
          "iopub.status.idle": "2021-12-09T06:36:47.347779Z",
          "shell.execute_reply.started": "2021-12-09T06:36:47.342459Z",
          "shell.execute_reply": "2021-12-09T06:36:47.34681Z"
        },
        "trusted": true,
        "id": "2JYS71TX9vIP"
      },
      "execution_count": null,
      "outputs": []
    },
    {
      "cell_type": "code",
      "source": [
        "remove_emoji(\"Loved the movie. It was 😘😘\")"
      ],
      "metadata": {
        "execution": {
          "iopub.status.busy": "2021-12-09T06:41:39.47184Z",
          "iopub.execute_input": "2021-12-09T06:41:39.472106Z",
          "iopub.status.idle": "2021-12-09T06:41:39.478264Z",
          "shell.execute_reply.started": "2021-12-09T06:41:39.472077Z",
          "shell.execute_reply": "2021-12-09T06:41:39.477363Z"
        },
        "trusted": true,
        "id": "P_5CBYAr9vIX"
      },
      "execution_count": null,
      "outputs": []
    },
    {
      "cell_type": "code",
      "source": [
        "remove_emoji(\"Lmao 😂😂\")"
      ],
      "metadata": {
        "execution": {
          "iopub.status.busy": "2021-12-09T06:41:44.668296Z",
          "iopub.execute_input": "2021-12-09T06:41:44.668991Z",
          "iopub.status.idle": "2021-12-09T06:41:44.674004Z",
          "shell.execute_reply.started": "2021-12-09T06:41:44.668952Z",
          "shell.execute_reply": "2021-12-09T06:41:44.673292Z"
        },
        "trusted": true,
        "id": "tcttY12F9vIY"
      },
      "execution_count": null,
      "outputs": []
    },
    {
      "cell_type": "code",
      "source": [
        "import emoji\n",
        "print(emoji.demojize('Python is 🔥'))"
      ],
      "metadata": {
        "execution": {
          "iopub.status.busy": "2021-12-09T06:42:13.319265Z",
          "iopub.execute_input": "2021-12-09T06:42:13.319769Z",
          "iopub.status.idle": "2021-12-09T06:42:13.324864Z",
          "shell.execute_reply.started": "2021-12-09T06:42:13.319732Z",
          "shell.execute_reply": "2021-12-09T06:42:13.324062Z"
        },
        "trusted": true,
        "id": "1EJZeSzU9vIa"
      },
      "execution_count": null,
      "outputs": []
    },
    {
      "cell_type": "code",
      "source": [
        "print(emoji.demojize('Loved the movie. It was 😘'))"
      ],
      "metadata": {
        "execution": {
          "iopub.status.busy": "2021-12-09T06:42:20.986399Z",
          "iopub.execute_input": "2021-12-09T06:42:20.986779Z",
          "iopub.status.idle": "2021-12-09T06:42:20.992126Z",
          "shell.execute_reply.started": "2021-12-09T06:42:20.98675Z",
          "shell.execute_reply": "2021-12-09T06:42:20.99145Z"
        },
        "trusted": true,
        "id": "BDL9Xzsc9vIb"
      },
      "execution_count": null,
      "outputs": []
    },
    {
      "cell_type": "markdown",
      "source": [
        "### 1. Using the split function"
      ],
      "metadata": {
        "id": "4_Vzwbhv9vIb"
      }
    },
    {
      "cell_type": "code",
      "source": [
        "# word tokenization\n",
        "sent1 = 'I am going to delhi'\n",
        "sent1.split()"
      ],
      "metadata": {
        "execution": {
          "iopub.status.busy": "2023-07-04T07:49:19.394700Z",
          "iopub.execute_input": "2023-07-04T07:49:19.395117Z",
          "iopub.status.idle": "2023-07-04T07:49:19.402952Z",
          "shell.execute_reply.started": "2023-07-04T07:49:19.395079Z",
          "shell.execute_reply": "2023-07-04T07:49:19.402284Z"
        },
        "trusted": true,
        "id": "_FPmqPVk9vIf",
        "outputId": "f4e102dc-2ca8-41c0-f4b2-6fd7be0846c7"
      },
      "execution_count": null,
      "outputs": [
        {
          "execution_count": 28,
          "output_type": "execute_result",
          "data": {
            "text/plain": "['I', 'am', 'going', 'to', 'delhi']"
          },
          "metadata": {}
        }
      ]
    },
    {
      "cell_type": "code",
      "source": [
        "# sentence tokenization\n",
        "sent2 = 'I am going to delhi. I will stay there for 3 days. Let\\'s hope the trip to be great'\n",
        "sent2.split('.')"
      ],
      "metadata": {
        "execution": {
          "iopub.status.busy": "2023-07-04T07:49:21.565425Z",
          "iopub.execute_input": "2023-07-04T07:49:21.566315Z",
          "iopub.status.idle": "2023-07-04T07:49:21.573938Z",
          "shell.execute_reply.started": "2023-07-04T07:49:21.566255Z",
          "shell.execute_reply": "2023-07-04T07:49:21.573080Z"
        },
        "trusted": true,
        "id": "OxyINA5E9vIh",
        "outputId": "64b73a60-0eec-4b04-9496-b2a8704a5d91"
      },
      "execution_count": null,
      "outputs": [
        {
          "execution_count": 29,
          "output_type": "execute_result",
          "data": {
            "text/plain": "['I am going to delhi',\n ' I will stay there for 3 days',\n \" Let's hope the trip to be great\"]"
          },
          "metadata": {}
        }
      ]
    },
    {
      "cell_type": "code",
      "source": [
        "# Problems with split function\n",
        "sent3 = 'I am going to delhi!'\n",
        "sent3.split()"
      ],
      "metadata": {
        "execution": {
          "iopub.status.busy": "2023-07-04T07:49:25.993507Z",
          "iopub.execute_input": "2023-07-04T07:49:25.994116Z",
          "iopub.status.idle": "2023-07-04T07:49:26.001962Z",
          "shell.execute_reply.started": "2023-07-04T07:49:25.994052Z",
          "shell.execute_reply": "2023-07-04T07:49:26.000664Z"
        },
        "trusted": true,
        "id": "sxQp9mrh9vIh",
        "outputId": "151847ae-77f6-411f-fe81-0106b773a515"
      },
      "execution_count": null,
      "outputs": [
        {
          "execution_count": 30,
          "output_type": "execute_result",
          "data": {
            "text/plain": "['I', 'am', 'going', 'to', 'delhi!']"
          },
          "metadata": {}
        }
      ]
    },
    {
      "cell_type": "code",
      "source": [
        "sent4 = 'Where do think I should go? I have 3 day holiday'\n",
        "sent4.split('.')"
      ],
      "metadata": {
        "execution": {
          "iopub.status.busy": "2023-07-04T07:49:29.303136Z",
          "iopub.execute_input": "2023-07-04T07:49:29.303488Z",
          "iopub.status.idle": "2023-07-04T07:49:29.315415Z",
          "shell.execute_reply.started": "2023-07-04T07:49:29.303453Z",
          "shell.execute_reply": "2023-07-04T07:49:29.314039Z"
        },
        "trusted": true,
        "id": "ljprSBAa9vIi",
        "outputId": "aabc9bd5-741f-4946-929e-0e89a78eb065"
      },
      "execution_count": null,
      "outputs": [
        {
          "execution_count": 31,
          "output_type": "execute_result",
          "data": {
            "text/plain": "['Where do think I should go? I have 3 day holiday']"
          },
          "metadata": {}
        }
      ]
    },
    {
      "cell_type": "markdown",
      "source": [
        "### 2. Regular Expression"
      ],
      "metadata": {
        "id": "33k6wU0x9vIi"
      }
    },
    {
      "cell_type": "code",
      "source": [
        "import re\n",
        "sent3 = 'I am going to delhi!'\n",
        "tokens = re.findall(\"[\\w']+\", sent3)\n",
        "tokens"
      ],
      "metadata": {
        "execution": {
          "iopub.status.busy": "2021-12-10T05:11:43.892933Z",
          "iopub.execute_input": "2021-12-10T05:11:43.894008Z",
          "iopub.status.idle": "2021-12-10T05:11:43.901551Z",
          "shell.execute_reply.started": "2021-12-10T05:11:43.893954Z",
          "shell.execute_reply": "2021-12-10T05:11:43.900591Z"
        },
        "trusted": true,
        "id": "b4rtvd9T9vIi"
      },
      "execution_count": null,
      "outputs": []
    },
    {
      "cell_type": "code",
      "source": [
        "\n",
        "text = \"\"\"Lorem Ipsum is simply dummy text of the printing and typesetting industry?\n",
        "Lorem Ipsum has been the industry's standard dummy text ever since the 1500s,\n",
        "when an unknown printer took a galley of type and scrambled it to make a type specimen book.\"\"\"\n",
        "sentences = re.compile('[.!?] ').split(text)\n",
        "sentences"
      ],
      "metadata": {
        "execution": {
          "iopub.status.busy": "2021-12-10T04:53:44.640578Z",
          "iopub.execute_input": "2021-12-10T04:53:44.641066Z",
          "iopub.status.idle": "2021-12-10T04:53:44.648281Z",
          "shell.execute_reply.started": "2021-12-10T04:53:44.641018Z",
          "shell.execute_reply": "2021-12-10T04:53:44.647378Z"
        },
        "trusted": true,
        "id": "rigMyska9vIj"
      },
      "execution_count": null,
      "outputs": []
    },
    {
      "cell_type": "markdown",
      "source": [
        "### 3. NLTK"
      ],
      "metadata": {
        "id": "XOYrQHUO9vIj"
      }
    },
    {
      "cell_type": "code",
      "source": [
        "from nltk.tokenize import word_tokenize,sent_tokenize\n",
        "# these libraries are equiped to handle difficult words tokenization like new, new york"
      ],
      "metadata": {
        "execution": {
          "iopub.status.busy": "2023-07-04T08:00:23.210384Z",
          "iopub.execute_input": "2023-07-04T08:00:23.211684Z",
          "iopub.status.idle": "2023-07-04T08:00:25.460337Z",
          "shell.execute_reply.started": "2023-07-04T08:00:23.211602Z",
          "shell.execute_reply": "2023-07-04T08:00:25.459101Z"
        },
        "trusted": true,
        "id": "vkbVVuD89vIk"
      },
      "execution_count": null,
      "outputs": []
    },
    {
      "cell_type": "code",
      "source": [
        "sent1 = 'I am going to visit delhi!. New Delhi is great'\n",
        "word_tokenize(sent1)"
      ],
      "metadata": {
        "execution": {
          "iopub.status.busy": "2023-07-04T08:00:52.387658Z",
          "iopub.execute_input": "2023-07-04T08:00:52.388080Z",
          "iopub.status.idle": "2023-07-04T08:00:52.414346Z",
          "shell.execute_reply.started": "2023-07-04T08:00:52.388041Z",
          "shell.execute_reply": "2023-07-04T08:00:52.413123Z"
        },
        "trusted": true,
        "id": "9aGs1Pzn9vIk",
        "outputId": "ce667d92-2f39-4feb-83a6-dc0315187334"
      },
      "execution_count": null,
      "outputs": [
        {
          "execution_count": 34,
          "output_type": "execute_result",
          "data": {
            "text/plain": "['I',\n 'am',\n 'going',\n 'to',\n 'visit',\n 'delhi',\n '!',\n '.',\n 'New',\n 'Delhi',\n 'is',\n 'great']"
          },
          "metadata": {}
        }
      ]
    },
    {
      "cell_type": "code",
      "source": [
        "text = \"\"\"Lorem Ipsum is simply dummy text of the printing and typesetting industry?\n",
        "Lorem Ipsum has been the industry's standard dummy text ever since the 1500s,\n",
        "when an unknown printer took a galley of type and scrambled it to make a type specimen book.\"\"\"\n",
        "\n",
        "sent_tokenize(text)"
      ],
      "metadata": {
        "execution": {
          "iopub.status.busy": "2023-07-04T08:01:03.569585Z",
          "iopub.execute_input": "2023-07-04T08:01:03.571024Z",
          "iopub.status.idle": "2023-07-04T08:01:03.579576Z",
          "shell.execute_reply.started": "2023-07-04T08:01:03.570960Z",
          "shell.execute_reply": "2023-07-04T08:01:03.578191Z"
        },
        "trusted": true,
        "id": "1ej9bY1i9vIl",
        "outputId": "3040566f-072b-4bfb-b5a8-3b08121fde69"
      },
      "execution_count": null,
      "outputs": [
        {
          "execution_count": 35,
          "output_type": "execute_result",
          "data": {
            "text/plain": "['Lorem Ipsum is simply dummy text of the printing and typesetting industry?',\n \"Lorem Ipsum has been the industry's standard dummy text ever since the 1500s, \\nwhen an unknown printer took a galley of type and scrambled it to make a type specimen book.\"]"
          },
          "metadata": {}
        }
      ]
    },
    {
      "cell_type": "code",
      "source": [
        "sent5 = 'I have a Ph.D in A.I'\n",
        "sent6 = \"We're here to help! mail us at nks@gmail.com\"\n",
        "sent7 = 'A 5km ride cost $10.50'\n",
        "\n",
        "word_tokenize(sent5)"
      ],
      "metadata": {
        "execution": {
          "iopub.status.busy": "2023-07-04T08:01:06.136978Z",
          "iopub.execute_input": "2023-07-04T08:01:06.137349Z",
          "iopub.status.idle": "2023-07-04T08:01:06.146033Z",
          "shell.execute_reply.started": "2023-07-04T08:01:06.137313Z",
          "shell.execute_reply": "2023-07-04T08:01:06.144816Z"
        },
        "trusted": true,
        "id": "fqSd-GKj9vIo",
        "outputId": "3ce7c2cd-5526-43aa-b25d-4d8ab62cade3"
      },
      "execution_count": null,
      "outputs": [
        {
          "execution_count": 36,
          "output_type": "execute_result",
          "data": {
            "text/plain": "['I', 'have', 'a', 'Ph.D', 'in', 'A.I']"
          },
          "metadata": {}
        }
      ]
    },
    {
      "cell_type": "code",
      "source": [
        "word_tokenize(sent6)"
      ],
      "metadata": {
        "execution": {
          "iopub.status.busy": "2021-12-10T06:03:01.881917Z",
          "iopub.execute_input": "2021-12-10T06:03:01.882224Z",
          "iopub.status.idle": "2021-12-10T06:03:01.889139Z",
          "shell.execute_reply.started": "2021-12-10T06:03:01.882192Z",
          "shell.execute_reply": "2021-12-10T06:03:01.888215Z"
        },
        "trusted": true,
        "id": "XUxPBeAU9vIp"
      },
      "execution_count": null,
      "outputs": []
    },
    {
      "cell_type": "code",
      "source": [
        "word_tokenize(sent7)"
      ],
      "metadata": {
        "execution": {
          "iopub.status.busy": "2021-12-10T06:03:02.309928Z",
          "iopub.execute_input": "2021-12-10T06:03:02.310653Z",
          "iopub.status.idle": "2021-12-10T06:03:02.316444Z",
          "shell.execute_reply.started": "2021-12-10T06:03:02.310603Z",
          "shell.execute_reply": "2021-12-10T06:03:02.315765Z"
        },
        "trusted": true,
        "id": "RtZgJ7GS9vIr"
      },
      "execution_count": null,
      "outputs": []
    },
    {
      "cell_type": "markdown",
      "source": [
        "### 4. Spacy\n",
        "\n",
        "Try other libraires"
      ],
      "metadata": {
        "id": "sHUnj4DI9vIs"
      }
    },
    {
      "cell_type": "code",
      "source": [
        "import spacy\n",
        "nlp = spacy.load('en_core_web_sm')"
      ],
      "metadata": {
        "execution": {
          "iopub.status.busy": "2023-07-04T08:01:17.553720Z",
          "iopub.execute_input": "2023-07-04T08:01:17.554094Z",
          "iopub.status.idle": "2023-07-04T08:01:30.870484Z",
          "shell.execute_reply.started": "2023-07-04T08:01:17.554057Z",
          "shell.execute_reply": "2023-07-04T08:01:30.869112Z"
        },
        "trusted": true,
        "id": "YY3rhuBj9vIu"
      },
      "execution_count": null,
      "outputs": []
    },
    {
      "cell_type": "code",
      "source": [
        "doc1 = nlp(sent5)\n",
        "doc2 = nlp(sent6)\n",
        "doc3 = nlp(sent7)\n",
        "doc4 = nlp(sent1)"
      ],
      "metadata": {
        "execution": {
          "iopub.status.busy": "2023-07-04T08:01:34.251251Z",
          "iopub.execute_input": "2023-07-04T08:01:34.251629Z",
          "iopub.status.idle": "2023-07-04T08:01:34.308070Z",
          "shell.execute_reply.started": "2023-07-04T08:01:34.251589Z",
          "shell.execute_reply": "2023-07-04T08:01:34.306880Z"
        },
        "trusted": true,
        "id": "SBtE7LYI9vIv"
      },
      "execution_count": null,
      "outputs": []
    },
    {
      "cell_type": "code",
      "source": [
        "for token in doc4:\n",
        "    print(token)"
      ],
      "metadata": {
        "execution": {
          "iopub.status.busy": "2023-07-04T08:01:37.736667Z",
          "iopub.execute_input": "2023-07-04T08:01:37.737000Z",
          "iopub.status.idle": "2023-07-04T08:01:37.746223Z",
          "shell.execute_reply.started": "2023-07-04T08:01:37.736965Z",
          "shell.execute_reply": "2023-07-04T08:01:37.745068Z"
        },
        "trusted": true,
        "id": "yEJvJwxD9vIv",
        "outputId": "b4d3c4ab-6587-415c-8826-b8296b1bd076"
      },
      "execution_count": null,
      "outputs": [
        {
          "name": "stdout",
          "text": "I\nam\ngoing\nto\nvisit\ndelhi\n!\n.\nNew\nDelhi\nis\ngreat\n",
          "output_type": "stream"
        }
      ]
    },
    {
      "cell_type": "code",
      "source": [],
      "metadata": {
        "id": "JwjSMG9i9vIw"
      },
      "execution_count": null,
      "outputs": []
    },
    {
      "cell_type": "code",
      "source": [],
      "metadata": {
        "id": "JZ6Sngq29vIw"
      },
      "execution_count": null,
      "outputs": []
    },
    {
      "cell_type": "code",
      "source": [],
      "metadata": {
        "id": "pm8wy8Uw9vIw"
      },
      "execution_count": null,
      "outputs": []
    },
    {
      "cell_type": "code",
      "source": [
        "from nltk.stem.porter import PorterStemmer"
      ],
      "metadata": {
        "execution": {
          "iopub.status.busy": "2023-07-04T08:04:26.982539Z",
          "iopub.execute_input": "2023-07-04T08:04:26.983684Z",
          "iopub.status.idle": "2023-07-04T08:04:26.989423Z",
          "shell.execute_reply.started": "2023-07-04T08:04:26.983622Z",
          "shell.execute_reply": "2023-07-04T08:04:26.988438Z"
        },
        "trusted": true,
        "id": "gP8NNe_m9vIw"
      },
      "execution_count": null,
      "outputs": []
    },
    {
      "cell_type": "code",
      "source": [
        "ps = PorterStemmer()\n",
        "def stem_words(text):\n",
        "    return \" \".join([ps.stem(word) for word in text.split()])"
      ],
      "metadata": {
        "execution": {
          "iopub.status.busy": "2023-07-04T08:04:27.334809Z",
          "iopub.execute_input": "2023-07-04T08:04:27.336163Z",
          "iopub.status.idle": "2023-07-04T08:04:27.343469Z",
          "shell.execute_reply.started": "2023-07-04T08:04:27.336092Z",
          "shell.execute_reply": "2023-07-04T08:04:27.342124Z"
        },
        "trusted": true,
        "id": "GdQ46N1l9vIw"
      },
      "execution_count": null,
      "outputs": []
    },
    {
      "cell_type": "code",
      "source": [
        "sample = \"walk walks walking walked\"\n",
        "stem_words(sample)"
      ],
      "metadata": {
        "execution": {
          "iopub.status.busy": "2023-07-04T08:04:27.652957Z",
          "iopub.execute_input": "2023-07-04T08:04:27.653336Z",
          "iopub.status.idle": "2023-07-04T08:04:27.661515Z",
          "shell.execute_reply.started": "2023-07-04T08:04:27.653299Z",
          "shell.execute_reply": "2023-07-04T08:04:27.660124Z"
        },
        "trusted": true,
        "id": "niQl7iNo9vIx",
        "outputId": "e8d7a1e2-9778-4cc3-ce31-41460c67ba09"
      },
      "execution_count": null,
      "outputs": [
        {
          "execution_count": 43,
          "output_type": "execute_result",
          "data": {
            "text/plain": "'walk walk walk walk'"
          },
          "metadata": {}
        }
      ]
    },
    {
      "cell_type": "code",
      "source": [
        "text = 'probably my alltime favorite movie a story of selflessness sacrifice and dedication to a noble cause but its not preachy or boring it just never gets old despite my having seen it some 15 or more times in the last 25 years paul lukas performance brings tears to my eyes and bette davis in one of her very few truly sympathetic roles is a delight the kids are as grandma says more like dressedup midgets than children but that only makes them more fun to watch and the mothers slow awakening to whats happening in the world and under her own roof is believable and startling if i had a dozen thumbs theyd all be up for this movie'\n",
        "print(text)"
      ],
      "metadata": {
        "execution": {
          "iopub.status.busy": "2023-07-04T08:04:35.319837Z",
          "iopub.execute_input": "2023-07-04T08:04:35.320210Z",
          "iopub.status.idle": "2023-07-04T08:04:35.327047Z",
          "shell.execute_reply.started": "2023-07-04T08:04:35.320169Z",
          "shell.execute_reply": "2023-07-04T08:04:35.325542Z"
        },
        "trusted": true,
        "id": "y_tOwxaB9vIx",
        "outputId": "89ab145b-f152-400a-f01c-8368d4c8cf9f"
      },
      "execution_count": null,
      "outputs": [
        {
          "name": "stdout",
          "text": "probably my alltime favorite movie a story of selflessness sacrifice and dedication to a noble cause but its not preachy or boring it just never gets old despite my having seen it some 15 or more times in the last 25 years paul lukas performance brings tears to my eyes and bette davis in one of her very few truly sympathetic roles is a delight the kids are as grandma says more like dressedup midgets than children but that only makes them more fun to watch and the mothers slow awakening to whats happening in the world and under her own roof is believable and startling if i had a dozen thumbs theyd all be up for this movie\n",
          "output_type": "stream"
        }
      ]
    },
    {
      "cell_type": "code",
      "source": [
        "stem_words(text)"
      ],
      "metadata": {
        "execution": {
          "iopub.status.busy": "2023-07-04T08:04:43.680529Z",
          "iopub.execute_input": "2023-07-04T08:04:43.680890Z",
          "iopub.status.idle": "2023-07-04T08:04:43.691176Z",
          "shell.execute_reply.started": "2023-07-04T08:04:43.680851Z",
          "shell.execute_reply": "2023-07-04T08:04:43.690217Z"
        },
        "trusted": true,
        "id": "grvfDCzT9vIy",
        "outputId": "4cfc7268-f980-4217-9405-90380a7aca86"
      },
      "execution_count": null,
      "outputs": [
        {
          "execution_count": 45,
          "output_type": "execute_result",
          "data": {
            "text/plain": "'probabl my alltim favorit movi a stori of selfless sacrific and dedic to a nobl caus but it not preachi or bore it just never get old despit my have seen it some 15 or more time in the last 25 year paul luka perform bring tear to my eye and bett davi in one of her veri few truli sympathet role is a delight the kid are as grandma say more like dressedup midget than children but that onli make them more fun to watch and the mother slow awaken to what happen in the world and under her own roof is believ and startl if i had a dozen thumb theyd all be up for thi movi'"
          },
          "metadata": {}
        }
      ]
    },
    {
      "cell_type": "code",
      "source": [
        "import nltk\n",
        "from nltk.stem import WordNetLemmatizer\n",
        "wordnet_lemmatizer = WordNetLemmatizer() # actual english word is searched and because of that it is slow but better than stemming\n",
        "\n",
        "sentence = \"He was running and eating at same time. He has bad habit of swimming after playing long hours in the Sun.\"\n",
        "punctuations=\"?:!.,;\"\n",
        "sentence_words = nltk.word_tokenize(sentence)\n",
        "for word in sentence_words:\n",
        "    if word in punctuations:\n",
        "        sentence_words.remove(word)\n",
        "\n",
        "sentence_words\n",
        "print(\"{0:20}{1:20}\".format(\"Word\",\"Lemma\"))\n",
        "for word in sentence_words:\n",
        "    print (\"{0:20}{1:20}\".format(word,wordnet_lemmatizer.lemmatize(word,pos='v'))) #part of speech='verb'"
      ],
      "metadata": {
        "execution": {
          "iopub.status.busy": "2023-07-04T08:05:52.692496Z",
          "iopub.execute_input": "2023-07-04T08:05:52.692896Z",
          "iopub.status.idle": "2023-07-04T08:05:55.591337Z",
          "shell.execute_reply.started": "2023-07-04T08:05:52.692858Z",
          "shell.execute_reply": "2023-07-04T08:05:55.590115Z"
        },
        "trusted": true,
        "id": "yK_uYMIn9vIz",
        "outputId": "f31f8189-a01c-405f-813e-79ed051bd0ec"
      },
      "execution_count": null,
      "outputs": [
        {
          "name": "stdout",
          "text": "Word                Lemma               \nHe                  He                  \nwas                 be                  \nrunning             run                 \nand                 and                 \neating              eat                 \nat                  at                  \nsame                same                \ntime                time                \nHe                  He                  \nhas                 have                \nbad                 bad                 \nhabit               habit               \nof                  of                  \nswimming            swim                \nafter               after               \nplaying             play                \nlong                long                \nhours               hours               \nin                  in                  \nthe                 the                 \nSun                 Sun                 \n",
          "output_type": "stream"
        }
      ]
    },
    {
      "cell_type": "code",
      "source": [],
      "metadata": {
        "id": "cDW5dEQA9vIz"
      },
      "execution_count": null,
      "outputs": []
    }
  ]
}